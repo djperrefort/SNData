{
 "cells": [
  {
   "cell_type": "code",
   "execution_count": 1,
   "metadata": {},
   "outputs": [],
   "source": [
    "from astropy.table import Column, Table, vstack\n",
    "from sndata.sdss import sako18spec\n"
   ]
  },
  {
   "cell_type": "code",
   "execution_count": 2,
   "metadata": {},
   "outputs": [
    {
     "data": {
      "text/html": [
       "<i>Table masked=True length=1360</i>\n",
       "<table id=\"table4985285544\" class=\"table-striped table-bordered table-condensed\">\n",
       "<thead><tr><th>CID</th><th>SID</th><th>Telescope</th><th>Files</th><th>Date</th><th>Type</th><th>zSN</th><th>zGal</th></tr></thead>\n",
       "<thead><tr><th>str21</th><th>int64</th><th>str8</th><th>str6</th><th>str10</th><th>str6</th><th>float64</th><th>float64</th></tr></thead>\n",
       "<tr><td>701</td><td>2795</td><td>APO</td><td>Gal</td><td>2008-09-02</td><td>Gal</td><td>--</td><td>0.206</td></tr>\n",
       "<tr><td>703</td><td>1963</td><td>NTT</td><td>Gal</td><td>2007-09-21</td><td>Gal</td><td>--</td><td>0.2987</td></tr>\n",
       "<tr><td>722</td><td>58</td><td>APO</td><td>SN,Gal</td><td>2005-09-09</td><td>Ia</td><td>0.087</td><td>0.0859</td></tr>\n",
       "<tr><td>739</td><td>59</td><td>APO</td><td>SN,Gal</td><td>2005-09-09</td><td>Ia</td><td>0.105</td><td>0.1071</td></tr>\n",
       "<tr><td>744</td><td>60</td><td>APO</td><td>SN,Gal</td><td>2005-09-08</td><td>Ia</td><td>0.123</td><td>0.1278</td></tr>\n",
       "<tr><td>762</td><td>61</td><td>APO</td><td>SN,Gal</td><td>2005-09-09</td><td>Ia</td><td>0.189</td><td>0.1908</td></tr>\n",
       "<tr><td>774</td><td>62</td><td>APO</td><td>SN,Gal</td><td>2005-09-09</td><td>Ia</td><td>0.09</td><td>0.0937</td></tr>\n",
       "<tr><td>774</td><td>577</td><td>MDM</td><td>SN</td><td>2005-09-17</td><td>Gal</td><td>--</td><td>0.0933</td></tr>\n",
       "<tr><td>779</td><td>592</td><td>HET</td><td>Gal</td><td>2005-12-29</td><td>Gal</td><td>--</td><td>0.2377</td></tr>\n",
       "<tr><td>841</td><td>2757</td><td>HET</td><td>Gal</td><td>2008-01-06</td><td>Gal</td><td>--</td><td>0.2991</td></tr>\n",
       "<tr><td>...</td><td>...</td><td>...</td><td>...</td><td>...</td><td>...</td><td>...</td><td>...</td></tr>\n",
       "<tr><td>21839</td><td>2716</td><td>NTT</td><td>SN</td><td>2007-12-08</td><td>Ia</td><td>0.089</td><td>0.0935</td></tr>\n",
       "<tr><td>21858</td><td>2999</td><td>APO</td><td>Gal</td><td>2008-10-30</td><td>Gal</td><td>--</td><td>0.2656</td></tr>\n",
       "<tr><td>21861</td><td>2723</td><td>NTT</td><td>SN</td><td>2007-12-07</td><td>Ia</td><td>0.188</td><td>--</td></tr>\n",
       "<tr><td>21898</td><td>2656</td><td>MDM</td><td>SN</td><td>2007-11-25</td><td>Ic</td><td>0.038</td><td>0.0383</td></tr>\n",
       "<tr><td>21898</td><td>2704</td><td>NTT</td><td>SN</td><td>2007-12-07</td><td>Ib</td><td>0.038</td><td>0.0384</td></tr>\n",
       "<tr><td>22073</td><td>2673</td><td>HET</td><td>SN</td><td>2007-12-09</td><td>IIn</td><td>0.235</td><td>0.2311</td></tr>\n",
       "<tr><td>22075</td><td>2661</td><td>MDM</td><td>SN</td><td>2007-11-25</td><td>Ia</td><td>0.117</td><td>0.1278</td></tr>\n",
       "<tr><td>22182</td><td>2690</td><td>NTT</td><td>SN</td><td>2007-12-10</td><td>Ia</td><td>0.076</td><td>--</td></tr>\n",
       "<tr><td>22182</td><td>2699</td><td>WHT</td><td>SN</td><td>2007-12-03</td><td>Ia</td><td>0.072</td><td>--</td></tr>\n",
       "<tr><td>22284</td><td>2735</td><td>NTT</td><td>SN</td><td>2007-12-08</td><td>Ia</td><td>0.136</td><td>--</td></tr>\n",
       "</table>"
      ],
      "text/plain": [
       "<Table masked=True length=1360>\n",
       " CID   SID  Telescope Files     Date    Type   zSN     zGal \n",
       "str21 int64    str8    str6    str10    str6 float64 float64\n",
       "----- ----- --------- ------ ---------- ---- ------- -------\n",
       "  701  2795       APO    Gal 2008-09-02  Gal      --   0.206\n",
       "  703  1963       NTT    Gal 2007-09-21  Gal      --  0.2987\n",
       "  722    58       APO SN,Gal 2005-09-09   Ia   0.087  0.0859\n",
       "  739    59       APO SN,Gal 2005-09-09   Ia   0.105  0.1071\n",
       "  744    60       APO SN,Gal 2005-09-08   Ia   0.123  0.1278\n",
       "  762    61       APO SN,Gal 2005-09-09   Ia   0.189  0.1908\n",
       "  774    62       APO SN,Gal 2005-09-09   Ia    0.09  0.0937\n",
       "  774   577       MDM     SN 2005-09-17  Gal      --  0.0933\n",
       "  779   592       HET    Gal 2005-12-29  Gal      --  0.2377\n",
       "  841  2757       HET    Gal 2008-01-06  Gal      --  0.2991\n",
       "  ...   ...       ...    ...        ...  ...     ...     ...\n",
       "21839  2716       NTT     SN 2007-12-08   Ia   0.089  0.0935\n",
       "21858  2999       APO    Gal 2008-10-30  Gal      --  0.2656\n",
       "21861  2723       NTT     SN 2007-12-07   Ia   0.188      --\n",
       "21898  2656       MDM     SN 2007-11-25   Ic   0.038  0.0383\n",
       "21898  2704       NTT     SN 2007-12-07   Ib   0.038  0.0384\n",
       "22073  2673       HET     SN 2007-12-09  IIn   0.235  0.2311\n",
       "22075  2661       MDM     SN 2007-11-25   Ia   0.117  0.1278\n",
       "22182  2690       NTT     SN 2007-12-10   Ia   0.076      --\n",
       "22182  2699       WHT     SN 2007-12-03   Ia   0.072      --\n",
       "22284  2735       NTT     SN 2007-12-08   Ia   0.136      --"
      ]
     },
     "execution_count": 2,
     "metadata": {},
     "output_type": "execute_result"
    }
   ],
   "source": [
    "master = sako18spec.load_table('master')\n",
    "master\n"
   ]
  },
  {
   "cell_type": "code",
   "execution_count": 5,
   "metadata": {},
   "outputs": [
    {
     "data": {
      "text/html": [
       "<i>Table length=1749</i>\n",
       "<table id=\"table4987740056\" class=\"table-striped table-bordered table-condensed\">\n",
       "<thead><tr><th>wavelength</th><th>flux</th><th>spec_type</th><th>date</th><th>telescope</th></tr></thead>\n",
       "<thead><tr><th>float64</th><th>float64</th><th>str2</th><th>str10</th><th>str3</th></tr></thead>\n",
       "<tr><td>3615.13522935257</td><td>1.994586272405577e-13</td><td>SN</td><td>2007-12-08</td><td>NTT</td></tr>\n",
       "<tr><td>3618.07293223425</td><td>-2.932777718595014e-13</td><td>SN</td><td>2007-12-08</td><td>NTT</td></tr>\n",
       "<tr><td>3621.01215057146</td><td>1.322438361074651e-12</td><td>SN</td><td>2007-12-08</td><td>NTT</td></tr>\n",
       "<tr><td>3623.95288164379</td><td>2.774769346583494e-13</td><td>SN</td><td>2007-12-08</td><td>NTT</td></tr>\n",
       "<tr><td>3626.8951227347</td><td>-7.751127756132348e-13</td><td>SN</td><td>2007-12-08</td><td>NTT</td></tr>\n",
       "<tr><td>3629.83887113145</td><td>-2.840156495403923e-13</td><td>SN</td><td>2007-12-08</td><td>NTT</td></tr>\n",
       "<tr><td>3632.7841241251</td><td>-4.776561091102139e-13</td><td>SN</td><td>2007-12-08</td><td>NTT</td></tr>\n",
       "<tr><td>3635.73087901055</td><td>8.538407069054454e-13</td><td>SN</td><td>2007-12-08</td><td>NTT</td></tr>\n",
       "<tr><td>3638.67913308649</td><td>4.299327820839194e-13</td><td>SN</td><td>2007-12-08</td><td>NTT</td></tr>\n",
       "<tr><td>3641.62888365541</td><td>1.610109615080013e-13</td><td>SN</td><td>2007-12-08</td><td>NTT</td></tr>\n",
       "<tr><td>...</td><td>...</td><td>...</td><td>...</td><td>...</td></tr>\n",
       "<tr><td>9685.1116771348</td><td>4.086177596549881e-17</td><td>SN</td><td>2007-12-08</td><td>NTT</td></tr>\n",
       "<tr><td>9688.76576052245</td><td>3.757857700026763e-17</td><td>SN</td><td>2007-12-08</td><td>NTT</td></tr>\n",
       "<tr><td>9692.41975050888</td><td>2.259188078943194e-17</td><td>SN</td><td>2007-12-08</td><td>NTT</td></tr>\n",
       "<tr><td>9696.07364643804</td><td>9.715759899763053e-18</td><td>SN</td><td>2007-12-08</td><td>NTT</td></tr>\n",
       "<tr><td>9699.72744765247</td><td>7.319156276123367e-18</td><td>SN</td><td>2007-12-08</td><td>NTT</td></tr>\n",
       "<tr><td>9703.38115349323</td><td>1.091090022728172e-17</td><td>SN</td><td>2007-12-08</td><td>NTT</td></tr>\n",
       "<tr><td>9707.03476329993</td><td>1.883830556887248e-17</td><td>SN</td><td>2007-12-08</td><td>NTT</td></tr>\n",
       "<tr><td>9710.68827641073</td><td>1.698052574188861e-17</td><td>SN</td><td>2007-12-08</td><td>NTT</td></tr>\n",
       "<tr><td>9714.34169216231</td><td>3.524468028450437e-17</td><td>SN</td><td>2007-12-08</td><td>NTT</td></tr>\n",
       "<tr><td>9717.9950098899</td><td>4.020891539523521e-17</td><td>SN</td><td>2007-12-08</td><td>NTT</td></tr>\n",
       "</table>"
      ],
      "text/plain": [
       "<Table length=1749>\n",
       "   wavelength             flux          spec_type    date    telescope\n",
       "    float64             float64            str2     str10       str3  \n",
       "---------------- ---------------------- --------- ---------- ---------\n",
       "3615.13522935257  1.994586272405577e-13        SN 2007-12-08       NTT\n",
       "3618.07293223425 -2.932777718595014e-13        SN 2007-12-08       NTT\n",
       "3621.01215057146  1.322438361074651e-12        SN 2007-12-08       NTT\n",
       "3623.95288164379  2.774769346583494e-13        SN 2007-12-08       NTT\n",
       " 3626.8951227347 -7.751127756132348e-13        SN 2007-12-08       NTT\n",
       "3629.83887113145 -2.840156495403923e-13        SN 2007-12-08       NTT\n",
       " 3632.7841241251 -4.776561091102139e-13        SN 2007-12-08       NTT\n",
       "3635.73087901055  8.538407069054454e-13        SN 2007-12-08       NTT\n",
       "3638.67913308649  4.299327820839194e-13        SN 2007-12-08       NTT\n",
       "3641.62888365541  1.610109615080013e-13        SN 2007-12-08       NTT\n",
       "             ...                    ...       ...        ...       ...\n",
       " 9685.1116771348  4.086177596549881e-17        SN 2007-12-08       NTT\n",
       "9688.76576052245  3.757857700026763e-17        SN 2007-12-08       NTT\n",
       "9692.41975050888  2.259188078943194e-17        SN 2007-12-08       NTT\n",
       "9696.07364643804  9.715759899763053e-18        SN 2007-12-08       NTT\n",
       "9699.72744765247  7.319156276123367e-18        SN 2007-12-08       NTT\n",
       "9703.38115349323  1.091090022728172e-17        SN 2007-12-08       NTT\n",
       "9707.03476329993  1.883830556887248e-17        SN 2007-12-08       NTT\n",
       "9710.68827641073  1.698052574188861e-17        SN 2007-12-08       NTT\n",
       "9714.34169216231  3.524468028450437e-17        SN 2007-12-08       NTT\n",
       " 9717.9950098899  4.020891539523521e-17        SN 2007-12-08       NTT"
      ]
     },
     "execution_count": 5,
     "metadata": {},
     "output_type": "execute_result"
    }
   ],
   "source": [
    "sako18spec.get_data_for_id('21839')"
   ]
  },
  {
   "cell_type": "code",
   "execution_count": null,
   "metadata": {},
   "outputs": [],
   "source": []
  }
 ],
 "metadata": {
  "kernelspec": {
   "display_name": "Python [conda env:sndata] *",
   "language": "python",
   "name": "conda-env-sndata-py"
  },
  "language_info": {
   "codemirror_mode": {
    "name": "ipython",
    "version": 3
   },
   "file_extension": ".py",
   "mimetype": "text/x-python",
   "name": "python",
   "nbconvert_exporter": "python",
   "pygments_lexer": "ipython3",
   "version": "3.7.3"
  }
 },
 "nbformat": 4,
 "nbformat_minor": 2
}
