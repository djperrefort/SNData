{
 "cells": [
  {
   "cell_type": "code",
   "execution_count": 1,
   "metadata": {},
   "outputs": [],
   "source": [
    "from astropy.table import Column, Table, vstack\n",
    "from sndata.sdss import sako18spec\n"
   ]
  },
  {
   "cell_type": "code",
   "execution_count": 2,
   "metadata": {},
   "outputs": [
    {
     "data": {
      "text/html": [
       "<i>Table masked=True length=1360</i>\n",
       "<table id=\"table4525047256\" class=\"table-striped table-bordered table-condensed\">\n",
       "<thead><tr><th>CID</th><th>SID</th><th>Telescope</th><th>Files</th><th>Date</th><th>Type</th><th>zSN</th><th>zGal</th></tr></thead>\n",
       "<thead><tr><th>str21</th><th>int64</th><th>str8</th><th>str6</th><th>str10</th><th>str6</th><th>float64</th><th>float64</th></tr></thead>\n",
       "<tr><td>701</td><td>2795</td><td>APO</td><td>Gal</td><td>2008-09-02</td><td>Gal</td><td>--</td><td>0.206</td></tr>\n",
       "<tr><td>703</td><td>1963</td><td>NTT</td><td>Gal</td><td>2007-09-21</td><td>Gal</td><td>--</td><td>0.2987</td></tr>\n",
       "<tr><td>722</td><td>58</td><td>APO</td><td>SN,Gal</td><td>2005-09-09</td><td>Ia</td><td>0.087</td><td>0.0859</td></tr>\n",
       "<tr><td>739</td><td>59</td><td>APO</td><td>SN,Gal</td><td>2005-09-09</td><td>Ia</td><td>0.105</td><td>0.1071</td></tr>\n",
       "<tr><td>744</td><td>60</td><td>APO</td><td>SN,Gal</td><td>2005-09-08</td><td>Ia</td><td>0.123</td><td>0.1278</td></tr>\n",
       "<tr><td>762</td><td>61</td><td>APO</td><td>SN,Gal</td><td>2005-09-09</td><td>Ia</td><td>0.189</td><td>0.1908</td></tr>\n",
       "<tr><td>774</td><td>62</td><td>APO</td><td>SN,Gal</td><td>2005-09-09</td><td>Ia</td><td>0.09</td><td>0.0937</td></tr>\n",
       "<tr><td>774</td><td>577</td><td>MDM</td><td>SN</td><td>2005-09-17</td><td>Gal</td><td>--</td><td>0.0933</td></tr>\n",
       "<tr><td>779</td><td>592</td><td>HET</td><td>Gal</td><td>2005-12-29</td><td>Gal</td><td>--</td><td>0.2377</td></tr>\n",
       "<tr><td>841</td><td>2757</td><td>HET</td><td>Gal</td><td>2008-01-06</td><td>Gal</td><td>--</td><td>0.2991</td></tr>\n",
       "<tr><td>...</td><td>...</td><td>...</td><td>...</td><td>...</td><td>...</td><td>...</td><td>...</td></tr>\n",
       "<tr><td>21839</td><td>2716</td><td>NTT</td><td>SN</td><td>2007-12-08</td><td>Ia</td><td>0.089</td><td>0.0935</td></tr>\n",
       "<tr><td>21858</td><td>2999</td><td>APO</td><td>Gal</td><td>2008-10-30</td><td>Gal</td><td>--</td><td>0.2656</td></tr>\n",
       "<tr><td>21861</td><td>2723</td><td>NTT</td><td>SN</td><td>2007-12-07</td><td>Ia</td><td>0.188</td><td>--</td></tr>\n",
       "<tr><td>21898</td><td>2656</td><td>MDM</td><td>SN</td><td>2007-11-25</td><td>Ic</td><td>0.038</td><td>0.0383</td></tr>\n",
       "<tr><td>21898</td><td>2704</td><td>NTT</td><td>SN</td><td>2007-12-07</td><td>Ib</td><td>0.038</td><td>0.0384</td></tr>\n",
       "<tr><td>22073</td><td>2673</td><td>HET</td><td>SN</td><td>2007-12-09</td><td>IIn</td><td>0.235</td><td>0.2311</td></tr>\n",
       "<tr><td>22075</td><td>2661</td><td>MDM</td><td>SN</td><td>2007-11-25</td><td>Ia</td><td>0.117</td><td>0.1278</td></tr>\n",
       "<tr><td>22182</td><td>2690</td><td>NTT</td><td>SN</td><td>2007-12-10</td><td>Ia</td><td>0.076</td><td>--</td></tr>\n",
       "<tr><td>22182</td><td>2699</td><td>WHT</td><td>SN</td><td>2007-12-03</td><td>Ia</td><td>0.072</td><td>--</td></tr>\n",
       "<tr><td>22284</td><td>2735</td><td>NTT</td><td>SN</td><td>2007-12-08</td><td>Ia</td><td>0.136</td><td>--</td></tr>\n",
       "</table>"
      ],
      "text/plain": [
       "<Table masked=True length=1360>\n",
       " CID   SID  Telescope Files     Date    Type   zSN     zGal \n",
       "str21 int64    str8    str6    str10    str6 float64 float64\n",
       "----- ----- --------- ------ ---------- ---- ------- -------\n",
       "  701  2795       APO    Gal 2008-09-02  Gal      --   0.206\n",
       "  703  1963       NTT    Gal 2007-09-21  Gal      --  0.2987\n",
       "  722    58       APO SN,Gal 2005-09-09   Ia   0.087  0.0859\n",
       "  739    59       APO SN,Gal 2005-09-09   Ia   0.105  0.1071\n",
       "  744    60       APO SN,Gal 2005-09-08   Ia   0.123  0.1278\n",
       "  762    61       APO SN,Gal 2005-09-09   Ia   0.189  0.1908\n",
       "  774    62       APO SN,Gal 2005-09-09   Ia    0.09  0.0937\n",
       "  774   577       MDM     SN 2005-09-17  Gal      --  0.0933\n",
       "  779   592       HET    Gal 2005-12-29  Gal      --  0.2377\n",
       "  841  2757       HET    Gal 2008-01-06  Gal      --  0.2991\n",
       "  ...   ...       ...    ...        ...  ...     ...     ...\n",
       "21839  2716       NTT     SN 2007-12-08   Ia   0.089  0.0935\n",
       "21858  2999       APO    Gal 2008-10-30  Gal      --  0.2656\n",
       "21861  2723       NTT     SN 2007-12-07   Ia   0.188      --\n",
       "21898  2656       MDM     SN 2007-11-25   Ic   0.038  0.0383\n",
       "21898  2704       NTT     SN 2007-12-07   Ib   0.038  0.0384\n",
       "22073  2673       HET     SN 2007-12-09  IIn   0.235  0.2311\n",
       "22075  2661       MDM     SN 2007-11-25   Ia   0.117  0.1278\n",
       "22182  2690       NTT     SN 2007-12-10   Ia   0.076      --\n",
       "22182  2699       WHT     SN 2007-12-03   Ia   0.072      --\n",
       "22284  2735       NTT     SN 2007-12-08   Ia   0.136      --"
      ]
     },
     "execution_count": 2,
     "metadata": {},
     "output_type": "execute_result"
    }
   ],
   "source": [
    "master = sako18spec.load_table('master')\n",
    "master\n"
   ]
  },
  {
   "cell_type": "code",
   "execution_count": 41,
   "metadata": {},
   "outputs": [],
   "source": [
    "from pathlib import Path\n",
    "\n",
    "data_dir = Path('/Users/daniel/Github/sndata/sndata/sdss/sako18spec/data/Spectra')\n",
    "paths = data_dir.glob('*.fits')"
   ]
  },
  {
   "cell_type": "code",
   "execution_count": 42,
   "metadata": {},
   "outputs": [],
   "source": [
    "path = next(paths)"
   ]
  },
  {
   "cell_type": "code",
   "execution_count": 38,
   "metadata": {},
   "outputs": [],
   "source": [
    "path = data_dir / 'sn2246-171.fits'"
   ]
  },
  {
   "cell_type": "code",
   "execution_count": 45,
   "metadata": {},
   "outputs": [
    {
     "data": {
      "text/plain": [
       "PosixPath('/Users/daniel/Github/sndata/sndata/sdss/sako18spec/data/Spectra/sn6192-415.fits')"
      ]
     },
     "execution_count": 45,
     "metadata": {},
     "output_type": "execute_result"
    }
   ],
   "source": [
    "path"
   ]
  },
  {
   "cell_type": "code",
   "execution_count": 43,
   "metadata": {
    "scrolled": false
   },
   "outputs": [
    {
     "data": {
      "text/plain": [
       "SIMPLE  =                    T / Fits standard                                  \n",
       "BITPIX  =                  -32 / Bits per pixel                                 \n",
       "NAXIS   =                    1 / Number of axes                                 \n",
       "NAXIS1  =                 1276 / Axis length                                    \n",
       "EXTEND  =                    T / File may contain extensions                    \n",
       "ORIGIN  = 'NOAO-IRAF FITS Image Kernel July 2003' / FITS file originator        \n",
       "DATE    = '2005-11-06T00:09:33' / Date FITS file was generated                  \n",
       "IRAF-TLM= '16:09:33 (05/11/2005)' / Time of last modification                   \n",
       "COMMENT   FITS (Flexible Image Transport System) format defined in Astronomy and\n",
       "COMMENT   Astrophysics Supplement Series v44/p363, v44/p371, v73/p359, v73/p365.\n",
       "COMMENT   Contact the NASA Science Office of Standards and Technology for the   \n",
       "COMMENT   FITS Definition document #100 and other FITS information.             \n",
       "OBJECT  = 'SN6192_cand LRS_g1_2.0_GG385' / Object name                          \n",
       "OBSERVAT= 'MCDONALD'           / Observatory                                    \n",
       "OBSERVER= 'Resident Astronomer' / Observers                                     \n",
       "EXPTIME =             1200.000 / Actual integration time                        \n",
       "DARKTIME=             1200.151 / Total elapsed time                             \n",
       "IMAGETYP= 'object  '           / Object, bias, dark, flat, comp etc.            \n",
       "DATE-OBS= '2005-11-05'         / Date (yyyy-mm-dd) of obs.                      \n",
       "UT      = '04:08:25.53'        / Universal time                                 \n",
       "ST      = '00:10:20.79'        / Sidereal time                                  \n",
       "MJD     =       53679.17248100 / Modified julian date                           \n",
       "RA      = '23:14:11.21'        / Right ascension                                \n",
       "DEC     = '+01:17:56.0'        / Declination                                    \n",
       "EQUINOX =              2000.00 / Equinox of coordinate system                   \n",
       "POINT   = 'mean    '           / Point type                                     \n",
       "HA      = '+00:56:05.49'       / Hour angle                                     \n",
       "ZD      = '32.20   '           / Zenith distance                                \n",
       "AIRMASS =                 1.18 / Airmass                                        \n",
       "AZIMUTH =               207.00 / Azimuth                                        \n",
       "PARANGLE=               211.13 / Parallactic angle                              \n",
       "STRUCTAZ=               216.94 / Azimuth of telescope structure                 \n",
       "X_STRT  =        -1.154055E+03 / X position of tracker at start of exposure     \n",
       "Y_STRT  =        -7.020258E+02 / Y position of tracker at start of exposure     \n",
       "Z_STRT  =         7.186731E+01 / Z position of tracker at start of exposure     \n",
       "RHO_STRT=         1.398000E-01 / Rho position of tracker at start of exposure   \n",
       "THE_STRT=        -3.226100E+00 / Theta position of tracker at start of exposure \n",
       "PHI_STRT=        -5.293700E+00 / Phi position of tracker at start of exposure   \n",
       "RHO_OFFS=                 0.00 / Rho position offset                            \n",
       "TELESCOP= 'het     '           / Telescope name                                 \n",
       "HOSTCOMP= 'lrs     '           / Host computer name                             \n",
       "HOSTOPS = 'SunOS 5.6'          / Host computer operating system                 \n",
       "PROGRAM = 'ICE V2-25Feb2005'   / Data acquistion program                        \n",
       "DETECTOR= 'SF1     '           / Detector name                                  \n",
       "DETSIZE = '[1:3072,1:1024]'    / Detector size                                  \n",
       "MICROCOD= 'SF1_2009m90'        / Detector microcode name                        \n",
       "CONTTYPE= 'McDonald Obs. V2'   / Detector controller type                       \n",
       "BP      = 'V2.0 #2 Rev B'      / Backplane ID                                   \n",
       "PS      = 'V2.0 #2 Rev B'      / Power supply ID                                \n",
       "CD      = 'V2.0 #2 Rev B'      / Clock driver ID                                \n",
       "TC      = 'V2.0 #2 Rev B'      / Temperature controller ID                      \n",
       "DSP     = 'V2.0 #2 Rev A'      / Digital signal processor ID                    \n",
       "ASP1    = 'V2.0 #2 Rev C'      / Analog Signal Processor #1 ID                  \n",
       "PH      = 'V2.0 #2 Rev B'      / Penthouse ID                                   \n",
       "AMPLIFIE= '2       '           / Amplifier(s) in use                            \n",
       "ASPGAIN =                    1 / ASP gain setting                               \n",
       "INTEGRAT=                    1 / Integrator setting                             \n",
       "DETTEMP =               -88.01 / Detector temperature (Celsius)                 \n",
       "CRYOTEMP=              -153.46 / Cold sink temperature (Celsius)                \n",
       "CONTTEMP=                23.33 / Controller temperature (Celsius)               \n",
       "SERVOPWR=                 0.12 / Servo heater power (watts)                     \n",
       "NCCDS   =                    1 / Number of CCDs in detector                     \n",
       "NAMPS   =                    1 / Number of amplifiers used                      \n",
       "INSTRUME= 'lrs     '           / Instrument                                     \n",
       "INSPAOFF=                -0.45 / Instrument position angle offset               \n",
       "POSANGLE=               210.68 / Position angle of a column on the sky          \n",
       "APERTURE= 'slit2.0 '           / Aperture                                       \n",
       "PROBEPOS= '[none given]'       / Probe position file                            \n",
       "DISPERSE= 'gr300   '           / Disperser                                      \n",
       "DECKER  = 'ls      '           / Decker                                         \n",
       "INSFOCUS= '501     '           / Instrument focus                               \n",
       "CCDSUM  = '2 2     '           / CCD on chip binning (col row)                  \n",
       "INSFILTE= 'GG385   '           / Instrument filters                             \n",
       "CAL_REV = '2001-09-28'         / Date of associated LRS Master Calibrations     \n",
       "RDNOISE2=                 5.10 / Readout noise for amplifier 2 (electrons)      \n",
       "GAIN2   =               1.8320 / Gain for amplifier 2 (electrons per ADU)       \n",
       "CCDSIZE = '[1:3072,1:1024]'    / CCD size                                       \n",
       "CCDSEC  = '[1:1496,1:512]'     / Region of CCD read (unbinned CCD pixels)       \n",
       "AMPSEC  = '[1:3072,1:1024]'    / Amplifier section (unbinned CCD pixels)        \n",
       "DETSEC  = '[1:3072,1:1024]'    / Detector section (unbinned CCD pixels)         \n",
       "WCSDIM  =                    1 /3 /2                                            \n",
       "LTM1_1  =                   1.                                                  \n",
       "WAT0_001= 'system=equispec'                                                     \n",
       "WAT1_001= 'wtype=linear label=Wavelength units=Angstroms'                       \n",
       "TRIM    = 'Nov  5 11:33 Trim data section is [1:1496,1:512]'                    \n",
       "OVERSCAN= 'Nov  5 11:33 Overscan section is [1540:1568,1:512] with mean=251.470'\n",
       "ZEROCOR = 'Nov  5 11:33 Zero level correction image is bias.fits'               \n",
       "FLATCOR = 'Nov  5 11:33 Flat field image is flat.fits with scale=11549.18'      \n",
       "CCDPROC = 'Nov  5 11:33 CCD processing done'                                    \n",
       "DCLOG1  = 'Transform'                                                           \n",
       "DC-FLAG =                    0 /0 /0 /0 /0                                      \n",
       "CTYPE1  = 'LINEAR  '                                                            \n",
       "CRVAL1  =                4250.                                                  \n",
       "CRPIX1  =                   1.                                                  \n",
       "CD1_1   =     4.50980392156861                                                  \n",
       "BANDID1 = 'spectrum - background fit, weights variance, clean yes'              \n",
       "BANDID2 = 'raw - background fit, weights none, clean no'                        \n",
       "BANDID3 = 'background - background fit'                                         \n",
       "BANDID4 = 'sigma - background fit, weights variance, clean yes'                 \n",
       "APNUM1  = '1 1 270.01 273.00'                                                   \n",
       "CA-FLAG =                    0 /0                                               \n",
       "BUNIT   = 'erg/cm2/s/A'                                                         \n",
       "CDELT1  =     4.50980392156861                                                  \n",
       "NCOMBINE=                    2                                                  \n",
       "                                                                                \n",
       "                                                                                \n",
       "                                                                                "
      ]
     },
     "execution_count": 43,
     "metadata": {},
     "output_type": "execute_result"
    }
   ],
   "source": [
    "hdu_list = fits.open(path)\n",
    "hdu_list[0].header"
   ]
  },
  {
   "cell_type": "code",
   "execution_count": 44,
   "metadata": {},
   "outputs": [
    {
     "data": {
      "text/plain": [
       "(1276,)"
      ]
     },
     "execution_count": 44,
     "metadata": {},
     "output_type": "execute_result"
    }
   ],
   "source": [
    "hdu_list[0].data.shape"
   ]
  },
  {
   "cell_type": "code",
   "execution_count": null,
   "metadata": {},
   "outputs": [],
   "source": []
  },
  {
   "cell_type": "code",
   "execution_count": null,
   "metadata": {},
   "outputs": [],
   "source": []
  },
  {
   "cell_type": "code",
   "execution_count": null,
   "metadata": {},
   "outputs": [],
   "source": []
  },
  {
   "cell_type": "code",
   "execution_count": 32,
   "metadata": {},
   "outputs": [],
   "source": [
    "from sndata.sdss.sako18spec import _meta as meta, load_table\n",
    "from sndata._iraf_parse import read_multispec\n",
    "\n",
    "def get_data_for_id(obj_id, ptable, format_table=True):\n",
    "    \"\"\"Returns data for a given object ID\n",
    "\n",
    "    See ``get_available_ids()`` for a list of available ID values.\n",
    "\n",
    "    Args:\n",
    "        obj_id        (str): The ID of the desired object\n",
    "        format_table (bool): Format data for ``SNCosmo`` (Default: True)\n",
    "\n",
    "    Returns:\n",
    "        An astropy table of data for the given ID\n",
    "    \"\"\"\n",
    "\n",
    "    master_table = load_table('master')\n",
    "    data_tables = []\n",
    "    for row in master_table[master_table['CID'] == obj_id]:\n",
    "        for spec_type in row['Files'].split(','):\n",
    "            try:\n",
    "                file_path = meta.spectra_dir / f'{spec_type.lower()}{obj_id}-{row[\"SID\"]}.fits'\n",
    "    #            print(file_path, row['Telescope'])\n",
    "\n",
    "                header, wave, flux = read_multispec(file_path)\n",
    "                if wave.ndim > 1:\n",
    "                    wave = wave[0]\n",
    "\n",
    "                data = Table([wave, flux[0]], names=['wavelength', 'flux'])\n",
    "                data['spec_type'] = spec_type\n",
    "                data['date'] = row['Date']\n",
    "                data['instrument'] = row['Telescope']\n",
    "                data_tables.append(data)\n",
    "                ptable.add_row([obj_id, row[\"SID\"], spec_type, row['Telescope'], 1])\n",
    "                \n",
    "            except:\n",
    "                ptable.add_row([obj_id, row[\"SID\"], spec_type, row['Telescope'], 0])\n",
    "\n",
    "    #out_data = vstack(data_tables)\n",
    "    #out_data.meta['obj_id'] = obj_id\n",
    "    #return out_data"
   ]
  },
  {
   "cell_type": "code",
   "execution_count": 37,
   "metadata": {},
   "outputs": [
    {
     "data": {
      "text/html": [
       "<i>Table length=1566</i>\n",
       "<table id=\"table4981735040\" class=\"table-striped table-bordered table-condensed\">\n",
       "<thead><tr><th>obj_id</th><th>spec_id</th><th>type</th><th>telescope</th><th>status</th></tr></thead>\n",
       "<thead><tr><th>int64</th><th>int64</th><th>str100</th><th>str100</th><th>int64</th></tr></thead>\n",
       "<tr><td>2246</td><td>171</td><td>SN</td><td>WHT</td><td>0</td></tr>\n",
       "<tr><td>2246</td><td>174</td><td>SN</td><td>APO</td><td>0</td></tr>\n",
       "<tr><td>2246</td><td>174</td><td>Gal</td><td>APO</td><td>0</td></tr>\n",
       "<tr><td>2246</td><td>1669</td><td>Gal</td><td>NTT</td><td>0</td></tr>\n",
       "<tr><td>2246</td><td>1683</td><td>Gal</td><td>NTT</td><td>0</td></tr>\n",
       "<tr><td>15865</td><td>2623</td><td>Gal</td><td>APO</td><td>1</td></tr>\n",
       "<tr><td>7779</td><td>430</td><td>SN</td><td>HET</td><td>0</td></tr>\n",
       "<tr><td>21683</td><td>2668</td><td>Gal</td><td>HET</td><td>0</td></tr>\n",
       "<tr><td>14331</td><td>1089</td><td>SN</td><td>HET</td><td>0</td></tr>\n",
       "<tr><td>21898</td><td>2656</td><td>SN</td><td>MDM</td><td>1</td></tr>\n",
       "<tr><td>...</td><td>...</td><td>...</td><td>...</td><td>...</td></tr>\n",
       "<tr><td>20432</td><td>2469</td><td>SN</td><td>HET</td><td>0</td></tr>\n",
       "<tr><td>21839</td><td>2716</td><td>SN</td><td>NTT</td><td>1</td></tr>\n",
       "<tr><td>17106</td><td>1645</td><td>SN</td><td>HET</td><td>0</td></tr>\n",
       "<tr><td>6773</td><td>386</td><td>SN</td><td>APO</td><td>0</td></tr>\n",
       "<tr><td>6773</td><td>386</td><td>Gal</td><td>APO</td><td>0</td></tr>\n",
       "<tr><td>13511</td><td>838</td><td>SN</td><td>HET</td><td>0</td></tr>\n",
       "<tr><td>13355</td><td>1003</td><td>SN</td><td>NTT</td><td>1</td></tr>\n",
       "<tr><td>1794</td><td>116</td><td>SN</td><td>WHT</td><td>0</td></tr>\n",
       "<tr><td>17389</td><td>1780</td><td>SN</td><td>MDM</td><td>1</td></tr>\n",
       "<tr><td>17389</td><td>1811</td><td>SN</td><td>NTT</td><td>1</td></tr>\n",
       "</table>"
      ],
      "text/plain": [
       "<Table length=1566>\n",
       "obj_id spec_id  type  telescope status\n",
       "int64   int64  str100   str100  int64 \n",
       "------ ------- ------ --------- ------\n",
       "  2246     171     SN       WHT      0\n",
       "  2246     174     SN       APO      0\n",
       "  2246     174    Gal       APO      0\n",
       "  2246    1669    Gal       NTT      0\n",
       "  2246    1683    Gal       NTT      0\n",
       " 15865    2623    Gal       APO      1\n",
       "  7779     430     SN       HET      0\n",
       " 21683    2668    Gal       HET      0\n",
       " 14331    1089     SN       HET      0\n",
       " 21898    2656     SN       MDM      1\n",
       "   ...     ...    ...       ...    ...\n",
       " 20432    2469     SN       HET      0\n",
       " 21839    2716     SN       NTT      1\n",
       " 17106    1645     SN       HET      0\n",
       "  6773     386     SN       APO      0\n",
       "  6773     386    Gal       APO      0\n",
       " 13511     838     SN       HET      0\n",
       " 13355    1003     SN       NTT      1\n",
       "  1794     116     SN       WHT      0\n",
       " 17389    1780     SN       MDM      1\n",
       " 17389    1811     SN       NTT      1"
      ]
     },
     "execution_count": 37,
     "metadata": {},
     "output_type": "execute_result"
    }
   ],
   "source": [
    "results"
   ]
  },
  {
   "cell_type": "code",
   "execution_count": 34,
   "metadata": {},
   "outputs": [
    {
     "name": "stderr",
     "output_type": "stream",
     "text": [
      "WARNING: The following header keyword is invalid or follows an unrecognized non-standard convention:\n",
      "SLITWIDTH=                 434 /                                                 [astropy.io.fits.card]\n",
      "WARNING: non-ASCII characters are present in the FITS file header and have been replaced by \"?\" characters [astropy.io.fits.util]\n",
      "WARNING: VerifyWarning: Invalid 'BLANK' keyword in header.  The 'BLANK' keyword is only applicable to integer data, and will be ignored in this HDU. [astropy.io.fits.hdu.image]\n",
      "WARNING: The following header keyword is invalid or follows an unrecognized non-standard convention:\n",
      "  WAQ                                                                            [astropy.io.fits.card]\n",
      "WARNING: The following header keyword is invalid or follows an unrecognized non-standard convention:\n",
      "SLITWIDTH=                 782 /                                                 [astropy.io.fits.card]\n",
      "WARNING: The following header keyword is invalid or follows an unrecognized non-standard convention:\n",
      "SLITWIDTH=                 442 /                                                 [astropy.io.fits.card]\n"
     ]
    }
   ],
   "source": [
    "results = Table(names=['obj_id', 'spec_id', 'type', 'telescope', 'status'], dtype=[int, int, 'U100', 'U100', int])\n",
    "\n",
    "for obj_id in set(master['CID']):\n",
    "    data = get_data_for_id(obj_id, results)\n"
   ]
  },
  {
   "cell_type": "code",
   "execution_count": 35,
   "metadata": {},
   "outputs": [
    {
     "name": "stdout",
     "output_type": "stream",
     "text": [
      "always_passing_tel {'CfA', 'Keck', 'KPNO'}\n",
      "always_failing_tel {'Magellan', 'NOT', 'Gemini', 'TNG'}\n",
      "mixed_tel {'Subaru', 'HET', 'MDM', 'NTT', 'APO', 'SALT', 'WHT'}\n"
     ]
    }
   ],
   "source": [
    "passing = results[results['status'] == 1]\n",
    "failing = results[results['status'] == 0]\n",
    "\n",
    "always_passing_tel = set(results['telescope']) - set(passing['telescope'])\n",
    "always_failing_tel = set(results['telescope']) - set(failing['telescope'])\n",
    "mixed_tel = set(results['telescope']) - always_passing_tel - always_failing_tel\n",
    "\n",
    "print('always_passing_tel', always_passing_tel)\n",
    "print('always_failing_tel', always_failing_tel)\n",
    "print('mixed_tel', mixed_tel)\n"
   ]
  },
  {
   "cell_type": "code",
   "execution_count": null,
   "metadata": {},
   "outputs": [],
   "source": []
  }
 ],
 "metadata": {
  "kernelspec": {
   "display_name": "Python [conda env:sndata] *",
   "language": "python",
   "name": "conda-env-sndata-py"
  },
  "language_info": {
   "codemirror_mode": {
    "name": "ipython",
    "version": 3
   },
   "file_extension": ".py",
   "mimetype": "text/x-python",
   "name": "python",
   "nbconvert_exporter": "python",
   "pygments_lexer": "ipython3",
   "version": "3.7.3"
  }
 },
 "nbformat": 4,
 "nbformat_minor": 2
}
